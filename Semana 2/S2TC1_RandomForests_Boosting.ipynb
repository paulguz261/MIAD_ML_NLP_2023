{
 "cells": [
  {
   "cell_type": "markdown",
   "metadata": {},
   "source": [
    "![image info](https://raw.githubusercontent.com/albahnsen/MIAD_ML_and_NLP/main/images/banner_1.png)"
   ]
  },
  {
   "cell_type": "markdown",
   "metadata": {},
   "source": [
    "# Taller: Construcción e implementación de modelos Bagging, Random Forest y XGBoost\n",
    "\n",
    "En este taller podrán poner en práctica sus conocimientos sobre la construcción e implementación de modelos de Bagging, Random Forest y XGBoost. El taller está constituido por 8 puntos, en los cuales deberan seguir las intrucciones de cada numeral para su desarrollo."
   ]
  },
  {
   "cell_type": "markdown",
   "metadata": {},
   "source": [
    "## Datos predicción precio de automóviles\n",
    "\n",
    "En este taller se usará el conjunto de datos de Car Listings de Kaggle donde cada observación representa el precio de un automóvil teniendo en cuenta distintas variables como año, marca, modelo, entre otras. El objetivo es predecir el precio del automóvil. Para más detalles puede visitar el siguiente enlace: [datos](https://www.kaggle.com/jpayne/852k-used-car-listings)."
   ]
  },
  {
   "cell_type": "code",
   "execution_count": 1,
   "metadata": {},
   "outputs": [],
   "source": [
    "import warnings\n",
    "warnings.filterwarnings('ignore')"
   ]
  },
  {
   "cell_type": "code",
   "execution_count": 2,
   "metadata": {},
   "outputs": [
    {
     "data": {
      "text/html": [
       "<div>\n",
       "<style scoped>\n",
       "    .dataframe tbody tr th:only-of-type {\n",
       "        vertical-align: middle;\n",
       "    }\n",
       "\n",
       "    .dataframe tbody tr th {\n",
       "        vertical-align: top;\n",
       "    }\n",
       "\n",
       "    .dataframe thead th {\n",
       "        text-align: right;\n",
       "    }\n",
       "</style>\n",
       "<table border=\"1\" class=\"dataframe\">\n",
       "  <thead>\n",
       "    <tr style=\"text-align: right;\">\n",
       "      <th></th>\n",
       "      <th>Price</th>\n",
       "      <th>Year</th>\n",
       "      <th>Mileage</th>\n",
       "      <th>M_Camry</th>\n",
       "      <th>M_Camry4dr</th>\n",
       "      <th>M_CamryBase</th>\n",
       "      <th>M_CamryL</th>\n",
       "      <th>M_CamryLE</th>\n",
       "      <th>M_CamrySE</th>\n",
       "      <th>M_CamryXLE</th>\n",
       "    </tr>\n",
       "  </thead>\n",
       "  <tbody>\n",
       "    <tr>\n",
       "      <th>7</th>\n",
       "      <td>21995</td>\n",
       "      <td>2014</td>\n",
       "      <td>6480</td>\n",
       "      <td>0</td>\n",
       "      <td>0</td>\n",
       "      <td>0</td>\n",
       "      <td>1</td>\n",
       "      <td>0</td>\n",
       "      <td>0</td>\n",
       "      <td>0</td>\n",
       "    </tr>\n",
       "    <tr>\n",
       "      <th>11</th>\n",
       "      <td>13995</td>\n",
       "      <td>2014</td>\n",
       "      <td>39972</td>\n",
       "      <td>0</td>\n",
       "      <td>0</td>\n",
       "      <td>0</td>\n",
       "      <td>0</td>\n",
       "      <td>1</td>\n",
       "      <td>0</td>\n",
       "      <td>0</td>\n",
       "    </tr>\n",
       "    <tr>\n",
       "      <th>167</th>\n",
       "      <td>17941</td>\n",
       "      <td>2016</td>\n",
       "      <td>18989</td>\n",
       "      <td>0</td>\n",
       "      <td>0</td>\n",
       "      <td>0</td>\n",
       "      <td>0</td>\n",
       "      <td>0</td>\n",
       "      <td>1</td>\n",
       "      <td>0</td>\n",
       "    </tr>\n",
       "    <tr>\n",
       "      <th>225</th>\n",
       "      <td>12493</td>\n",
       "      <td>2014</td>\n",
       "      <td>51330</td>\n",
       "      <td>0</td>\n",
       "      <td>0</td>\n",
       "      <td>0</td>\n",
       "      <td>1</td>\n",
       "      <td>0</td>\n",
       "      <td>0</td>\n",
       "      <td>0</td>\n",
       "    </tr>\n",
       "    <tr>\n",
       "      <th>270</th>\n",
       "      <td>7994</td>\n",
       "      <td>2007</td>\n",
       "      <td>116065</td>\n",
       "      <td>0</td>\n",
       "      <td>1</td>\n",
       "      <td>0</td>\n",
       "      <td>0</td>\n",
       "      <td>0</td>\n",
       "      <td>0</td>\n",
       "      <td>0</td>\n",
       "    </tr>\n",
       "  </tbody>\n",
       "</table>\n",
       "</div>"
      ],
      "text/plain": [
       "     Price  Year  Mileage  M_Camry  M_Camry4dr  M_CamryBase  M_CamryL  \\\n",
       "7    21995  2014     6480        0           0            0         1   \n",
       "11   13995  2014    39972        0           0            0         0   \n",
       "167  17941  2016    18989        0           0            0         0   \n",
       "225  12493  2014    51330        0           0            0         1   \n",
       "270   7994  2007   116065        0           1            0         0   \n",
       "\n",
       "     M_CamryLE  M_CamrySE  M_CamryXLE  \n",
       "7            0          0           0  \n",
       "11           1          0           0  \n",
       "167          0          1           0  \n",
       "225          0          0           0  \n",
       "270          0          0           0  "
      ]
     },
     "execution_count": 2,
     "metadata": {},
     "output_type": "execute_result"
    }
   ],
   "source": [
    "# Importación de librerías\n",
    "%matplotlib inline\n",
    "import pandas as pd\n",
    "import numpy as np\n",
    "import matplotlib.pyplot as plt\n",
    "\n",
    "# Lectura de la información de archivo .csv\n",
    "data = pd.read_csv('https://raw.githubusercontent.com/albahnsen/MIAD_ML_and_NLP/main/datasets/dataTrain_carListings.zip')\n",
    "\n",
    "# Preprocesamiento de datos para el taller\n",
    "data = data.loc[data['Model'].str.contains('Camry')].drop(['Make', 'State'], axis=1)\n",
    "data = data.join(pd.get_dummies(data['Model'], prefix='M'))\n",
    "data = data.drop(['Model'], axis=1)\n",
    "\n",
    "# Visualización dataset\n",
    "data.head()"
   ]
  },
  {
   "cell_type": "code",
   "execution_count": 3,
   "metadata": {},
   "outputs": [],
   "source": [
    "# Separación de variables predictoras (X) y variable de interés (y)\n",
    "y = data['Price']\n",
    "X = data.drop(['Price'], axis=1)"
   ]
  },
  {
   "cell_type": "code",
   "execution_count": 4,
   "metadata": {},
   "outputs": [],
   "source": [
    "# Separación de datos en set de entrenamiento y test\n",
    "from sklearn.model_selection import train_test_split\n",
    "X_train, X_test, y_train, y_test = train_test_split(X, y, test_size=0.33, random_state=42)"
   ]
  },
  {
   "cell_type": "markdown",
   "metadata": {},
   "source": [
    "### Punto 1 - Árbol de decisión manual\n",
    "\n",
    "En la celda 1 creen un árbol de decisión **manualmente**  que considere los set de entrenamiento y test definidos anteriormente y presenten el RMSE y MAE del modelo en el set de test."
   ]
  },
  {
   "cell_type": "code",
   "execution_count": 5,
   "metadata": {},
   "outputs": [],
   "source": [
    "# Celda 1\n",
    "\n",
    "# Definición de parámetros y criterios de parada\n",
    "max_depth = None\n",
    "num_pct = 10\n",
    "max_features = None\n",
    "min_gain=0.001\n",
    "\n",
    "def MSE(y, y_pred):\n",
    "    if y.shape[0] == 0:\n",
    "        return 0   \n",
    "    else:\n",
    "        mse = ((y-y_pred)**2).mean()\n",
    "        return mse\n",
    "    \n",
    "def mse_split(X_col, y, split):\n",
    "    \n",
    "    filter_l = X_col < split\n",
    "    y_l = y.loc[filter_l]\n",
    "    y_r = y.loc[~filter_l]\n",
    "    \n",
    "    n_l = y_l.shape[0]\n",
    "    n_r = y_r.shape[0]\n",
    "    \n",
    "    mse_l = MSE(y_l, y_l.mean())\n",
    "    mse_r = MSE(y_r, y_r.mean())\n",
    "    \n",
    "    mse_ = mse_l + mse_r\n",
    "   \n",
    "    return mse_\n",
    "\n",
    "\n",
    "# Definición de la función best_split para calcular cuál es la mejor variable y punto de cortepara hacer la bifurcación del árbol\n",
    "def best_split(X, y, num_pct=10):\n",
    "    \n",
    "    features = range(X.shape[1])\n",
    "\n",
    "    # se determina como mejor split inicial np.inf ya que es el valor mas alto que se puede generar\n",
    "    best_split = [0, 0, np.inf]  # j, split, min_mse\n",
    "\n",
    "    # Para todas las varibles \n",
    "    for j in features:\n",
    "        \n",
    "        splits = np.percentile(X.iloc[:, j], np.arange(0, 100, 100.0 / (num_pct+1)).tolist())\n",
    "        splits = np.unique(splits)[1:]\n",
    "        \n",
    "        # Para cada partición\n",
    "        for split in splits:\n",
    "            mse = mse_split(X.iloc[:, j], y, split)\n",
    "            \n",
    "            if mse < best_split[2]:\n",
    "                best_split = [j, split, mse]\n",
    "    \n",
    "    return best_split\n",
    "\n",
    "\n",
    "# Definición de la función tree_grow para hacer un crecimiento recursivo del árbol\n",
    "def tree_grow(X, y, level=0, max_depth=None, num_pct=100, min_samples = 3):\n",
    "    \n",
    "    # Si solo es una observación\n",
    "    if X.shape[0] == 1:\n",
    "        tree = dict(y_pred=y.mean() , level=level, split=-1, n_samples=1, mse=MSE(y,y.mean()))\n",
    "        return tree\n",
    "    \n",
    "    # Calcular la mejor división\n",
    "    j, split, mse = best_split(X, y, num_pct)\n",
    "    \n",
    "    # estimar la predicción\n",
    "    y_pred = y.mean()    \n",
    "    \n",
    "    tree = dict(y_pred=y_pred, level=level, split=-1, n_samples=X.shape[0], mse=mse)\n",
    "    # Revisar el criterio de parada - se añade split = 0 cuando se determina que no hay mas divisiones por hacer \n",
    "    if X.shape[0] < min_samples:\n",
    "        return tree\n",
    "    if max_depth is not None:\n",
    "        if level >= max_depth:\n",
    "            return tree   \n",
    "    if split == 0:\n",
    "        return tree\n",
    "    \n",
    "    # Continuar creando la partición\n",
    "    filter_l = X.iloc[:, j] < split\n",
    "    X_l, y_l = X.loc[filter_l], y.loc[filter_l]\n",
    "    X_r, y_r = X.loc[~filter_l], y.loc[~filter_l]\n",
    "    tree['split'] = [j, split]\n",
    "\n",
    "    # Siguiente iteración para cada partición\n",
    "    #print(level)\n",
    "    tree['sl'] = tree_grow(X_l, y_l, level + 1, max_depth=max_depth, num_pct=num_pct, min_samples = 3)\n",
    "    tree['sr'] = tree_grow(X_r, y_r, level + 1, max_depth=max_depth, num_pct=num_pct, min_samples = 3)\n",
    "\n",
    "    return tree\n",
    "\n",
    "# Definición de la función tree_predict para hacer predicciones según las variables 'X' y el árbol 'tree'\n",
    "\n",
    "def tree_predict(X, tree, proba=False):\n",
    "    \n",
    "    predicted = np.ones(X.shape[0])\n",
    "\n",
    "    # Revisar si es el nodo final\n",
    "    if tree['split'] == -1:\n",
    "        if not proba:\n",
    "            predicted = predicted * tree['y_pred']\n",
    "        else:\n",
    "            predicted = predicted * tree['y_prob']\n",
    "            \n",
    "    else:\n",
    "        \n",
    "        j, split = tree['split']\n",
    "        filter_l = (X.iloc[:, j] < split)\n",
    "        X_l = X.loc[filter_l]\n",
    "        X_r = X.loc[~filter_l]\n",
    "\n",
    "        if X_l.shape[0] == 0:  # Si el nodo izquierdo está vacio solo continua con el derecho \n",
    "            predicted[~filter_l] = tree_predict(X_r, tree['sr'], proba)\n",
    "        elif X_r.shape[0] == 0:  #  Si el nodo derecho está vacio solo continua con el izquierdo\n",
    "            predicted[filter_l] = tree_predict(X_l, tree['sl'], proba)\n",
    "        else:\n",
    "            predicted[filter_l] = tree_predict(X_l, tree['sl'], proba)\n",
    "            predicted[~filter_l] = tree_predict(X_r, tree['sr'], proba)\n",
    "\n",
    "    return predicted"
   ]
  },
  {
   "cell_type": "code",
   "execution_count": 6,
   "metadata": {},
   "outputs": [],
   "source": [
    "tree_mnl = tree_grow(X_train, y_train, level=0, max_depth=None, num_pct=100, min_samples = 3)"
   ]
  },
  {
   "cell_type": "code",
   "execution_count": 7,
   "metadata": {},
   "outputs": [
    {
     "name": "stdout",
     "output_type": "stream",
     "text": [
      "1738.999326404927 2318.2956396925965\n"
     ]
    }
   ],
   "source": [
    "from sklearn.metrics import mean_absolute_error, mean_squared_error\n",
    "\n",
    "y_predict_tree = tree_predict(X_test, tree_mnl)\n",
    "\n",
    "mae_mnl_tree = mean_absolute_error(y_test, y_predict_tree)\n",
    "rmse_mnl_tree = np.sqrt(mean_squared_error(y_test, y_predict_tree))\n",
    "\n",
    "\n",
    "resultados_modelos = {}\n",
    "resultados_modelos['arbol_manual'] = {'MAE':mae_mnl_tree,\n",
    "                                           'RMSE': rmse_mnl_tree}\n",
    "\n",
    "\n",
    "print(mae_mnl_tree, rmse_mnl_tree)"
   ]
  },
  {
   "cell_type": "code",
   "execution_count": 8,
   "metadata": {},
   "outputs": [
    {
     "data": {
      "text/plain": [
       "count     7031.000000\n",
       "mean     14508.073389\n",
       "std       3927.667432\n",
       "min       5002.000000\n",
       "25%      11998.000000\n",
       "50%      15000.000000\n",
       "75%      16996.000000\n",
       "max      32444.000000\n",
       "Name: Price, dtype: float64"
      ]
     },
     "execution_count": 8,
     "metadata": {},
     "output_type": "execute_result"
    }
   ],
   "source": [
    "y_train.describe()"
   ]
  },
  {
   "attachments": {},
   "cell_type": "markdown",
   "metadata": {},
   "source": [
    "El modelo de arbol de decisión presenta un error promedio absoluto de *1738* lo cual implicaque en promedio de las predicciones realizadas estas se equivocan de su valor real por +/- este valor que para la magnitud de la variable **$y$** no es un error tan alto ya que los precios de los automoviles en promedio se encuentran en el orden de los *14500*.\n",
    "El arbol de decision tiene un buen comportamiento sin embargo su tiempo de ejecución es alto ya que la implementacion manual realizada no tiene en cuenta optimizaciones para el lenguaje utilizado"
   ]
  },
  {
   "cell_type": "markdown",
   "metadata": {},
   "source": [
    "### Punto 2 - Bagging manual\n",
    "\n",
    "En la celda 2 creen un modelo bagging **manualmente** con 10 árboles de clasificación y comenten sobre el desempeño del modelo."
   ]
  },
  {
   "cell_type": "code",
   "execution_count": 9,
   "metadata": {},
   "outputs": [
    {
     "name": "stdout",
     "output_type": "stream",
     "text": [
      "Árbol  0 tiene un error rmse:  2141.613353645869\n",
      "Árbol  0 tiene un error mae:  1738.999326404927\n",
      "Árbol  1 tiene un error rmse:  2136.3519863123465\n",
      "Árbol  1 tiene un error mae:  1738.999326404927\n",
      "Árbol  2 tiene un error rmse:  2122.718759132052\n",
      "Árbol  2 tiene un error mae:  1738.999326404927\n",
      "Árbol  3 tiene un error rmse:  2087.278992468617\n",
      "Árbol  3 tiene un error mae:  1738.999326404927\n",
      "Árbol  4 tiene un error rmse:  2168.518742842026\n",
      "Árbol  4 tiene un error mae:  1738.999326404927\n",
      "Árbol  5 tiene un error rmse:  2113.8811455834793\n",
      "Árbol  5 tiene un error mae:  1738.999326404927\n",
      "Árbol  6 tiene un error rmse:  2127.933470769012\n",
      "Árbol  6 tiene un error mae:  1738.999326404927\n",
      "Árbol  7 tiene un error rmse:  2184.414847251443\n",
      "Árbol  7 tiene un error mae:  1738.999326404927\n",
      "Árbol  8 tiene un error rmse:  2138.1071697514985\n",
      "Árbol  8 tiene un error mae:  1738.999326404927\n",
      "Árbol  9 tiene un error rmse:  2132.097520859104\n",
      "Árbol  9 tiene un error mae:  1738.999326404927\n"
     ]
    }
   ],
   "source": [
    "# Celda 2\n",
    "\n",
    "# Creación de 10 muestras de bootstrap \n",
    "np.random.seed(123)\n",
    "\n",
    "n_samples = X_train.shape[0]\n",
    "n_B = 10\n",
    "\n",
    "samples = [np.random.choice(a=n_samples, size=n_samples, replace=True) for _ in range(1, n_B +1 )]\n",
    "\n",
    "\n",
    "\n",
    "# Construcción un árbol de decisión para cada muestra boostrap\n",
    "\n",
    "from sklearn.tree import DecisionTreeRegressor\n",
    "\n",
    "# Definición del modelo usando DecisionTreeRegressor de sklearn\n",
    "treereg = DecisionTreeRegressor(max_depth=None, random_state=123)\n",
    "\n",
    "# DataFrame para guardar las predicciones de cada árbol\n",
    "y_pred_bag_df = pd.DataFrame(index=X_test.index, columns=[list(range(n_B))])\n",
    "\n",
    "# Entrenamiento de un árbol sobre cada muestra boostrap y predicción sobre los datos de test\n",
    "for i, sample in enumerate(samples):\n",
    "    X_train_i = X_train.iloc[sample,:]\n",
    "    y_train_i = y_train.iloc[sample]\n",
    "    treereg.fit(X_train_i, y_train_i)\n",
    "    y_pred_bag_df.iloc[:,i] = treereg.predict(X_test)\n",
    "    \n",
    "for i in range(n_B):\n",
    "    print('Árbol ', i, 'tiene un error rmse: ', np.sqrt(mean_squared_error(y_test, y_pred_bag_df.iloc[:,i])))\n",
    "    print('Árbol ', i, 'tiene un error mae: ', mean_absolute_error(y_test, y_predict_tree))"
   ]
  },
  {
   "cell_type": "code",
   "execution_count": 10,
   "metadata": {},
   "outputs": [
    {
     "name": "stdout",
     "output_type": "stream",
     "text": [
      "1340.0160739030025 1796.4355868399332\n"
     ]
    }
   ],
   "source": [
    "y_pred = y_pred_bag_df.mean(axis=1)\n",
    "\n",
    "\n",
    "mae_mnl_bagg = mean_absolute_error(y_test, y_pred)\n",
    "rmse_mnl_bagg = np.sqrt(mean_squared_error(y_test, y_pred))\n",
    "\n",
    "resultados_modelos['bagging_manual'] = {'MAE':mae_mnl_bagg,\n",
    "                                           'RMSE': rmse_mnl_bagg}\n",
    "\n",
    "print(mae_mnl_bagg, rmse_mnl_bagg)"
   ]
  },
  {
   "attachments": {},
   "cell_type": "markdown",
   "metadata": {},
   "source": [
    "En esta implementacion se utiliza el arbol de decision implementado en sklearn, y vemos que para cada iteracion del arbol se obtenen un *MAE y RMSE* similaral obtenido en la implementacion manual, lo cual corrobora que la implementación realizada anteriormente es correcta, ademas se observa que para todos los arboles el error es similar entre si. Cuando la prediccion de cada arbol es promediada para completar el proceso de bagging se ve que las dos medidas MAE y RMSE se reducen, evidenciando los beneficios del metodo de *Boosting* en el cual al tomar distintos muestreos para el entreno de cada arbol y juntarlos al final se mitigan los sesgos aprendidos por cada arbol y se obtiene un resultado más robusto y con un mejor desempeño\n",
    "\n"
   ]
  },
  {
   "cell_type": "markdown",
   "metadata": {},
   "source": [
    "### Punto 3 - Bagging con librería\n",
    "\n",
    "En la celda 3, con la librería sklearn, entrenen un modelo bagging con 10 árboles de clasificación y el parámetro `max_features` igual a `log(n_features)` y comenten sobre el desempeño del modelo."
   ]
  },
  {
   "cell_type": "code",
   "execution_count": 56,
   "metadata": {},
   "outputs": [
    {
     "data": {
      "text/plain": [
       "BaggingRegressor(base_estimator=DecisionTreeRegressor(random_state=123),\n",
       "                 max_features=3, oob_score=True, random_state=1)"
      ]
     },
     "execution_count": 56,
     "metadata": {},
     "output_type": "execute_result"
    }
   ],
   "source": [
    "# Celda 3\n",
    "\n",
    "from sklearn.ensemble import BaggingRegressor\n",
    "import math \n",
    "\n",
    "n_features = X_train.shape[1]\n",
    "\n",
    "max_variables = int(math.log2(X.shape[1]))\n",
    "#max_variables = X_train.shape[1]\n",
    "\n",
    "bagreg = BaggingRegressor(DecisionTreeRegressor(max_depth=None, random_state=123), n_estimators=10, max_features = max_variables, \n",
    "                          bootstrap=True, oob_score=True, random_state=1)\n",
    "\n",
    "bagreg.fit(X_train,y_train)"
   ]
  },
  {
   "cell_type": "code",
   "execution_count": 57,
   "metadata": {},
   "outputs": [
    {
     "name": "stdout",
     "output_type": "stream",
     "text": [
      "1523.7936523039218 2013.353269091173\n"
     ]
    }
   ],
   "source": [
    "y_pred = bagreg.predict(X_test)\n",
    "\n",
    "mae_mnl_bagg_sk = mean_absolute_error(y_test, y_pred)\n",
    "rmse_mnl_bagg_sk = np.sqrt(mean_squared_error(y_test, y_pred))\n",
    "\n",
    "\n",
    "resultados_modelos['bagging_libreria'] = {'MAE':mae_mnl_bagg_sk,\n",
    "                                           'RMSE': rmse_mnl_bagg_sk}\n",
    "\n",
    "print(mae_mnl_bagg_sk, rmse_mnl_bagg_sk)"
   ]
  },
  {
   "attachments": {},
   "cell_type": "markdown",
   "metadata": {},
   "source": [
    "de forma general para el problema de regresión el parametro *max_features* se escoge en un rango entre [p/3, p] donde p es el numero de variables. En este caso segun el resultado se ve que es mejor tener la totalidad de las variables que una fraccion."
   ]
  },
  {
   "cell_type": "markdown",
   "metadata": {},
   "source": [
    "### Punto 4 - Random forest con librería\n",
    "\n",
    "En la celda 4, usando la librería sklearn entrenen un modelo de Randon Forest para clasificación  y comenten sobre el desempeño del modelo."
   ]
  },
  {
   "cell_type": "code",
   "execution_count": 13,
   "metadata": {},
   "outputs": [
    {
     "data": {
      "text/plain": [
       "RandomForestRegressor(random_state=10)"
      ]
     },
     "execution_count": 13,
     "metadata": {},
     "output_type": "execute_result"
    }
   ],
   "source": [
    "# Celda 4\n",
    "from sklearn.ensemble import RandomForestRegressor\n",
    "\n",
    "randF = RandomForestRegressor(random_state=10, n_estimators=100)\n",
    "\n",
    "randF.fit(X_train, y_train)"
   ]
  },
  {
   "cell_type": "code",
   "execution_count": 14,
   "metadata": {},
   "outputs": [
    {
     "name": "stdout",
     "output_type": "stream",
     "text": [
      "1309.6517446910125 1762.5549543508685\n"
     ]
    }
   ],
   "source": [
    "y_pred = randF.predict(X_test)\n",
    "\n",
    "mae_randF = mean_absolute_error(y_test, y_pred)\n",
    "rmse_randF = np.sqrt(mean_squared_error(y_test, y_pred))\n",
    "\n",
    "\n",
    "resultados_modelos['random_forest_libreria'] = {'MAE':mae_randF,\n",
    "                                           'RMSE': rmse_randF}\n",
    "\n",
    "\n",
    "print(mae_randF, rmse_randF)"
   ]
  },
  {
   "attachments": {},
   "cell_type": "markdown",
   "metadata": {},
   "source": [
    "Random Forest tiene el mejor desempeño respecto a los modelos anteriores. El hecho de que ya no se usen todas las variables en el ajuste del modelo y los parámetros internos es lo que mejora el modelo. Respecto a los árboles manuales y el boosting manual de los 10 árboles, random forest tiene por defecto la raiz cuadrada del total de variables. El usar menos variables evita que los árboles estén altamente correlacionados.\n",
    "Este modelo se está equivocando en promedio 1.309 dólares por arriba o por debajo del valor real del vehículo. Así mismo, este modelo maneja un score, calculado a partir del MSE, de 1763."
   ]
  },
  {
   "cell_type": "markdown",
   "metadata": {},
   "source": [
    "### Punto 5 - Calibración de parámetros Random forest\n",
    "\n",
    "En la celda 5, calibren los parámetros max_depth, max_features y n_estimators del modelo de Randon Forest para clasificación, comenten sobre el desempeño del modelo y describan cómo cada parámetro afecta el desempeño del modelo."
   ]
  },
  {
   "attachments": {},
   "cell_type": "markdown",
   "metadata": {},
   "source": [
    "#### n_estimators"
   ]
  },
  {
   "cell_type": "code",
   "execution_count": 15,
   "metadata": {},
   "outputs": [],
   "source": [
    "# Celda 5\n",
    "\n",
    "estimators_arr = np.arange(1,1000,10)\n",
    "mae_arr = []\n",
    "rmse_arr = []\n",
    "\n",
    "for i in estimators_arr:\n",
    "    randF = RandomForestRegressor(random_state=10, n_estimators=i, n_jobs=-1)\n",
    "    randF.fit(X_train, y_train)\n",
    "    y_pred_i = randF.predict(X_test)\n",
    "    mae_randF = mean_absolute_error(y_test, y_pred_i)\n",
    "    rmse_randF = np.sqrt(mean_squared_error(y_test, y_pred_i))\n",
    "\n",
    "    mae_arr.append(mae_randF)\n",
    "    rmse_arr.append(rmse_randF)"
   ]
  },
  {
   "cell_type": "code",
   "execution_count": 16,
   "metadata": {},
   "outputs": [
    {
     "name": "stdout",
     "output_type": "stream",
     "text": [
      "mejor parametro n_estimators: 291\n",
      "valor de rmse para el mejor parametro: 1756.086106169565\n"
     ]
    },
    {
     "data": {
      "image/png": "[encoded data removed]",
      "text/plain": [
       "<Figure size 432x288 with 1 Axes>"
      ]
     },
     "metadata": {
      "needs_background": "light"
     },
     "output_type": "display_data"
    }
   ],
   "source": [
    "print(\"mejor parametro n_estimators: {}\".format(estimators_arr[np.argmin(rmse_arr)]))\n",
    "print(\"valor de rmse para el mejor parametro: {}\".format(rmse_arr[np.argmin(rmse_arr)]))\n",
    "# Gráfica del desempeño del modelo vs la cantidad de n_estimators\n",
    "plt.plot(estimators_arr, rmse_arr)\n",
    "plt.xlabel('n_estimators')\n",
    "plt.ylabel('RMSE');"
   ]
  },
  {
   "cell_type": "markdown",
   "metadata": {},
   "source": [
    "#### max_depth"
   ]
  },
  {
   "cell_type": "code",
   "execution_count": 17,
   "metadata": {},
   "outputs": [],
   "source": [
    "# Celda 5\n",
    "\n",
    "depth_arr = np.arange(1,20,1)\n",
    "mae_arr = []\n",
    "rmse_arr = []\n",
    "\n",
    "for i in depth_arr:\n",
    "    randF = RandomForestRegressor(random_state=10, n_jobs=-1, n_estimators=291, max_depth=i)\n",
    "    randF.fit(X_train, y_train)\n",
    "    y_pred_i = randF.predict(X_test)\n",
    "    mae_randF = mean_absolute_error(y_test, y_pred_i)\n",
    "    rmse_randF = np.sqrt(mean_squared_error(y_test, y_pred_i))\n",
    "\n",
    "    mae_arr.append(mae_randF)\n",
    "    rmse_arr.append(rmse_randF)"
   ]
  },
  {
   "cell_type": "code",
   "execution_count": 18,
   "metadata": {},
   "outputs": [
    {
     "name": "stdout",
     "output_type": "stream",
     "text": [
      "mejor parametro para max_depth: 1564.7632441888525\n",
      "valor de rmse para el mejor parametro: 8\n"
     ]
    },
    {
     "data": {
      "image/png": "[encoded data removed]",
      "text/plain": [
       "<Figure size 432x288 with 1 Axes>"
      ]
     },
     "metadata": {
      "needs_background": "light"
     },
     "output_type": "display_data"
    }
   ],
   "source": [
    "print(\"mejor parametro para max_depth: {}\".format(rmse_arr[np.argmin(rmse_arr)]))\n",
    "print(\"valor de rmse para el mejor parametro: {}\".format(depth_arr[np.argmin(rmse_arr)]))\n",
    "# Gráfica del desempeño del modelo vs la cantidad de n_estimators\n",
    "plt.plot(depth_arr, rmse_arr)\n",
    "plt.xlabel('max_depth')\n",
    "plt.ylabel('RMSE');"
   ]
  },
  {
   "attachments": {},
   "cell_type": "markdown",
   "metadata": {},
   "source": [
    "#### max_features"
   ]
  },
  {
   "cell_type": "code",
   "execution_count": 19,
   "metadata": {},
   "outputs": [],
   "source": [
    "# Celda 5\n",
    "\n",
    "features_arr = np.arange(1,X_train.shape[1],1)\n",
    "mae_arr = []\n",
    "rmse_arr = []\n",
    "\n",
    "for i in features_arr:\n",
    "    randF = RandomForestRegressor(random_state=10, n_jobs=-1, n_estimators=291, max_depth=8, max_features=i)\n",
    "    randF.fit(X_train, y_train)\n",
    "    y_pred_i = randF.predict(X_test)\n",
    "    mae_randF = mean_absolute_error(y_test, y_pred_i)\n",
    "    rmse_randF = np.sqrt(mean_squared_error(y_test, y_pred_i))\n",
    "\n",
    "    mae_arr.append(mae_randF)\n",
    "    rmse_arr.append(rmse_randF)"
   ]
  },
  {
   "cell_type": "code",
   "execution_count": 20,
   "metadata": {},
   "outputs": [
    {
     "name": "stdout",
     "output_type": "stream",
     "text": [
      "mejor parametro para max_features: 1552.6020335420355\n",
      "valor de rmse para el mejor parametro: 5\n"
     ]
    },
    {
     "data": {
      "image/png": "[encoded data removed]",
      "text/plain": [
       "<Figure size 432x288 with 1 Axes>"
      ]
     },
     "metadata": {
      "needs_background": "light"
     },
     "output_type": "display_data"
    }
   ],
   "source": [
    "print(\"mejor parametro para max_features: {}\".format(rmse_arr[np.argmin(rmse_arr)]))\n",
    "print(\"valor de rmse para el mejor parametro: {}\".format(features_arr[np.argmin(rmse_arr)]))\n",
    "# Gráfica del desempeño del modelo vs la cantidad de n_estimators\n",
    "plt.plot(features_arr, rmse_arr)\n",
    "plt.xlabel('max_features')\n",
    "plt.ylabel('RMSE');"
   ]
  },
  {
   "cell_type": "code",
   "execution_count": 21,
   "metadata": {},
   "outputs": [
    {
     "name": "stdout",
     "output_type": "stream",
     "text": [
      "Fitting 5 folds for each of 228 candidates, totalling 1140 fits\n"
     ]
    }
   ],
   "source": [
    "from sklearn.model_selection import GridSearchCV\n",
    "\n",
    "RandF = RandomForestRegressor(random_state=10, n_jobs=-1)\n",
    "parameters = {'n_estimators': np.arange(1,300,100),\n",
    "              'max_depth':depth_arr,\n",
    "              'max_features': [1,3,5,8]\n",
    "              }\n",
    "RF_grid = GridSearchCV(RandF,\n",
    "                        parameters,\n",
    "                        cv = 5,\n",
    "                        n_jobs = -1,\n",
    "                        verbose=2,\n",
    "                        scoring = 'neg_mean_squared_error')\n",
    "\n",
    "RF_grid.fit(X_train,y_train)\n",
    "y_pred = RF_grid.predict(X_test)"
   ]
  },
  {
   "cell_type": "code",
   "execution_count": 22,
   "metadata": {},
   "outputs": [
    {
     "data": {
      "text/plain": [
       "{'max_depth': 8, 'max_features': 5, 'n_estimators': 201}"
      ]
     },
     "execution_count": 22,
     "metadata": {},
     "output_type": "execute_result"
    }
   ],
   "source": [
    "RF_grid.best_params_"
   ]
  },
  {
   "cell_type": "code",
   "execution_count": 23,
   "metadata": {},
   "outputs": [
    {
     "name": "stdout",
     "output_type": "stream",
     "text": [
      "1138.4220248934055 1552.1727580835422\n"
     ]
    }
   ],
   "source": [
    "mae_randF = mean_absolute_error(y_test, y_pred)\n",
    "rmse_randF = np.sqrt(mean_squared_error(y_test, y_pred))\n",
    "\n",
    "\n",
    "resultados_modelos['random_forest_best'] = {'MAE':mae_randF,\n",
    "                                           'RMSE': rmse_randF}\n",
    "\n",
    "\n",
    "print(mae_randF, rmse_randF)"
   ]
  },
  {
   "cell_type": "markdown",
   "metadata": {},
   "source": [
    "Se reconoce que cada parametro afecta de una manera diferente el desempeño del modelo:\n",
    "   1. n_estimators: este parámetro determina el número de árboles en el bosque aleatorio. Un valor más alto aumentará la precisión del modelo, pero también aumentará el costo computacional. Por esta razon el RMSE continua disminuyendo mientras más estimadores se agregan. Sin embargo, después de cierto punto no es eficiente continuar con este incremento (291)\n",
    "   2. max_depth: este parámetro controla la profundidad máxima del árbol de decisión. Un valor más alto permite que el modelo aprenda relaciones más complejas en los datos, pero también puede conducir al sobreajuste. Esto se puede observar en los efectos observados en la gráfica donde el RMSE después de haber disminuido hasta cierto punto empieza a incrementarse de nuevo (8). Esto significa que durante la selección de los parametros se debe ser cuidadoso en la profundidad que se va a seleccionar\n",
    "   3. max_features: este parámetro controla el número máximo de características que se utilizan en cada división del árbol. Un valor más alto permitirá que el modelo tenga más información para tomar decisiones, pero también puede conducir al overfitting. Esto se puede observar en el efecto que tiene el incremento de las variables despúes de cierto punto (Posterior a 5)."
   ]
  },
  {
   "cell_type": "markdown",
   "metadata": {},
   "source": [
    "### Punto 6 - XGBoost con librería\n",
    "\n",
    "En la celda 6 implementen un modelo XGBoost de clasificación con la librería sklearn y comenten sobre el desempeño del modelo."
   ]
  },
  {
   "cell_type": "code",
   "execution_count": 24,
   "metadata": {},
   "outputs": [
    {
     "name": "stdout",
     "output_type": "stream",
     "text": [
      "1186.634392366123 1621.4197004256812\n"
     ]
    }
   ],
   "source": [
    "# Celda 6\n",
    "\n",
    "# Importación y definición de modelo XGBClassifier\n",
    "\n",
    "from xgboost import XGBRegressor\n",
    "from sklearn import metrics\n",
    "from sklearn.model_selection import cross_val_score\n",
    "\n",
    "clf = XGBRegressor()\n",
    "\n",
    "# Entrenamiento (fit) y desempeño del modelo XGBClassifier\n",
    "clf.fit(X_train, y_train)\n",
    "y_pred = clf.predict(X_test)\n",
    "\n",
    "\n",
    "mae_XBoost = mean_absolute_error(y_test, y_pred)\n",
    "rmse_XBoost = np.sqrt(mean_squared_error(y_test, y_pred))\n",
    "\n",
    "\n",
    "resultados_modelos['XGBoost'] = {'MAE':mae_XBoost,\n",
    "                                           'RMSE': rmse_XBoost}\n",
    "\n",
    "\n",
    "print(mae_XBoost, rmse_XBoost)"
   ]
  },
  {
   "cell_type": "markdown",
   "metadata": {},
   "source": [
    "El desempeño de XGBoost frente a los modelos anteriores, no tiene una mejora considerable, dado que los valores por defecto del modelo no logran mejorar los parámetros óptimos de un Random Forest. Sin embargo, es de resaltar que el modelo que se obtuvo por defecto de XGBoost supera el modelo obtenido por defecto de Random Forest, que tuvo un MAE de 1.309 y un score de 1762. Esto quiere decir que los parámetros de regularización de XGBoost logran una mejora en el rendimiento.\n",
    "Este modelo se está equivocando en promedio 1.187 dólares por arriba o por debajo del valor real del vehículo. Así mismo, este modelo maneja un score, calculado a partir del MSE, de 1621."
   ]
  },
  {
   "cell_type": "markdown",
   "metadata": {},
   "source": [
    "### Punto 7 - Calibración de parámetros XGBoost\n",
    "\n",
    "En la celda 7 calibren los parámetros learning rate, gamma y colsample_bytree del modelo XGBoost para clasificación, comenten sobre el desempeño del modelo y describan cómo cada parámetro afecta el desempeño del modelo."
   ]
  },
  {
   "cell_type": "code",
   "execution_count": 25,
   "metadata": {},
   "outputs": [
    {
     "name": "stdout",
     "output_type": "stream",
     "text": [
      "La mejor tasa de aprendizaje para el modelo es igual a 0.0661\n"
     ]
    },
    {
     "data": {
      "image/png": "[encoded data removed]",
      "text/plain": [
       "<Figure size 432x288 with 1 Axes>"
      ]
     },
     "metadata": {
      "needs_background": "light"
     },
     "output_type": "display_data"
    }
   ],
   "source": [
    "# Celda 7\n",
    "\n",
    "# Creación de lista de valores para iterar sobre diferentes valores de n_estimators\n",
    "lr_range = np.arange(0.0001, 0.1, 0.001)\n",
    "\n",
    "# Definición de lista para almacenar el mae y rmse para cada valor de n_estimators\n",
    "mae_arr = []\n",
    "rmse_arr = []\n",
    "\n",
    "# Uso de un 10-fold cross-validation para cada valor de n_estimators\n",
    "for lr in lr_range:\n",
    "    clf = XGBRegressor(learning_rate=lr,random_state=1, n_jobs=-1)\n",
    "    #accuracy_scores.append(cross_val_score(clf, X_train, y_train, cv=5).mean())\n",
    "\n",
    "    clf.fit(X_train, y_train)\n",
    "    y_pred = clf.predict(X_test)\n",
    "\n",
    "    mae = mean_absolute_error(y_test, y_pred)\n",
    "    rmse = np.sqrt(mean_squared_error(y_test, y_pred))\n",
    "\n",
    "    mae_arr.append(mae)\n",
    "    rmse_arr.append(rmse)\n",
    "\n",
    "\n",
    "    \n",
    "# Gráfica del desempeño del modelo vs la cantidad de n_estimators\n",
    "plt.plot(lr_range, rmse_arr)\n",
    "plt.xlabel('lr_range')\n",
    "plt.ylabel('RMSE')\n",
    "\n",
    "\n",
    "\n",
    "mensaje = ['La mejor tasa de aprendizaje para el modelo es igual a',str(lr_range[np.argmin(rmse_arr)])]\n",
    "print(\" \".join(mensaje))"
   ]
  },
  {
   "cell_type": "code",
   "execution_count": 26,
   "metadata": {},
   "outputs": [
    {
     "name": "stdout",
     "output_type": "stream",
     "text": [
      "La mejor gamma para el modelo es igual a 9000.0\n"
     ]
    },
    {
     "data": {
      "image/png": "[encoded data removed]",
      "text/plain": [
       "<Figure size 432x288 with 1 Axes>"
      ]
     },
     "metadata": {
      "needs_background": "light"
     },
     "output_type": "display_data"
    }
   ],
   "source": [
    "# Creación de lista de valores para iterar sobre diferentes valores de n_estimators\n",
    "gamma_range = np.arange(0, 30e3, 1000)\n",
    "#gamma_range = np.logspace(-10, 5, num=20)\n",
    "\n",
    "# Definición de lista para almacenar la exactitud (accuracy) promedio para cada valor de n_estimators\n",
    "mae_arr = []\n",
    "rmse_arr = []\n",
    "\n",
    "# Uso de un 10-fold cross-validation para cada valor de n_estimators\n",
    "for gamma in gamma_range:\n",
    "    clf = XGBRegressor(learning_rate=0.0661, gamma=gamma, random_state=1, n_jobs=-1)\n",
    "    clf.fit(X_train, y_train)\n",
    "    y_pred = clf.predict(X_test)\n",
    "\n",
    "    mae = mean_absolute_error(y_test, y_pred)\n",
    "    rmse = np.sqrt(mean_squared_error(y_test, y_pred))\n",
    "\n",
    "    mae_arr.append(mae)\n",
    "    rmse_arr.append(rmse)\n",
    "    \n",
    "# Gráfica del desempeño del modelo vs la cantidad de n_estimators\n",
    "plt.plot(gamma_range, rmse_arr)\n",
    "plt.xlabel('gamma_range')\n",
    "plt.ylabel('RMSE')\n",
    "\n",
    "mensaje = ['La mejor gamma para el modelo es igual a',str(gamma_range[np.argmin(rmse_arr)])]\n",
    "print(\" \".join(mensaje))"
   ]
  },
  {
   "cell_type": "code",
   "execution_count": 27,
   "metadata": {},
   "outputs": [
    {
     "name": "stdout",
     "output_type": "stream",
     "text": [
      "La mejor fracción de variables por árbol para el modelo es igual a 0.23\n"
     ]
    },
    {
     "data": {
      "image/png": "[encoded data removed]",
      "text/plain": [
       "<Figure size 432x288 with 1 Axes>"
      ]
     },
     "metadata": {
      "needs_background": "light"
     },
     "output_type": "display_data"
    }
   ],
   "source": [
    "# Creación de lista de valores para iterar sobre diferentes valores de n_estimators\n",
    "cst_range = np.arange(0, 1, 0.01)\n",
    "\n",
    "# Definición de lista para almacenar la exactitud (accuracy) promedio para cada valor de n_estimators\n",
    "mae_arr = []\n",
    "rmse_arr = []\n",
    "\n",
    "# Uso de un 10-fold cross-validation para cada valor de n_estimators\n",
    "for cst in cst_range:\n",
    "    clf = XGBRegressor(learning_rate=0.0661, gamma=9e3, colsample_bytree=cst, random_state=1, n_jobs=-1)\n",
    "    clf.fit(X_train, y_train/1000)\n",
    "    y_pred = clf.predict(X_test)\n",
    "\n",
    "    mae = mean_absolute_error(y_test, y_pred)\n",
    "    rmse = np.sqrt(mean_squared_error(y_test, y_pred))\n",
    "\n",
    "    mae_arr.append(mae)\n",
    "    rmse_arr.append(rmse)\n",
    "    \n",
    "# Gráfica del desempeño del modelo vs la cantidad de n_estimators\n",
    "plt.plot(cst_range, rmse_arr)\n",
    "plt.xlabel('cst')\n",
    "plt.ylabel('RMSE')\n",
    "\n",
    "mensaje = ['La mejor fracción de variables por árbol para el modelo es igual a',str(cst_range[np.argmin(rmse_arr)])]\n",
    "print(\" \".join(mensaje))"
   ]
  },
  {
   "cell_type": "code",
   "execution_count": 28,
   "metadata": {},
   "outputs": [
    {
     "name": "stdout",
     "output_type": "stream",
     "text": [
      "1131.9284906189105 1541.3550855210274\n"
     ]
    }
   ],
   "source": [
    "clf = XGBRegressor(learning_rate=0.0661, gamma=9e3, colsample_bytree=0.56, random_state=1, n_jobs=-1)\n",
    "clf.fit(X_train, y_train)\n",
    "y_pred = clf.predict(X_test)\n",
    "\n",
    "mae_best_XGBoost = mean_absolute_error(y_test, y_pred)\n",
    "rmse_best_XGBoost = np.sqrt(mean_squared_error(y_test, y_pred))\n",
    "\n",
    "\n",
    "resultados_modelos['best_XGBoost'] = {'MAE':mae_best_XGBoost,\n",
    "                                           'RMSE': rmse_best_XGBoost}\n",
    "\n",
    "print(mae_best_XGBoost, rmse_best_XGBoost)"
   ]
  },
  {
   "cell_type": "markdown",
   "metadata": {},
   "source": [
    "Así como cuando ser calibra el modelo Random Forest, se puede ver que la calibración de estos tres parámetros afecta positivamente el desempeño del modelo. A continuación se describen sus funciones y su influencia sobre este modelo:\n",
    "1. Learning_rate: Esta es la tasa de aprendizaje, entendida como un peso que se le aplica a la corrección que hacen los árboles del modelo. Como se crean secuencialmente y cada uno aplica una corrección dependiendo del error del anterior, si se permite que el modelo haga los árboles sin restricción podría presentarse sobreentrenamiento rápidamente. Para combatir esto, el Learning Rate reduce la corrección que se aplica en cada árbol consecutivo. Se puede ver que el valor de learning_rate es de 0.0661, lo cual es muy bajo. Esto significa que se está penalizando con fuerza el aprendizaje de cada árbol y, por ende, que este modelo es propenso a sobreentrenarse.\n",
    "2. El parámetro Gamma es un parámtero de regularización del modelo, que se puede entender como el valor mínimo de pérdida tras el cual el modelo agrega un nuevo nodo a los árboles. Es decir, el modelo evalúa el desempeño de cada iteración y se calcula un valor de pérdida con una función de error y, si la ganancia en desempeño de añadir el nodo es mayor o igual a GAmma, se añade un nuevo nodo en el árbol que se está generando y se sigue generando. De lo contrario, el árbol deja de generarse y se sigue con el siguiente. En el caso de este taller, el valor de Gamma fue de 9000, de modo que ese es el umbral de ganancia en la medida de error tras el que se hace un nuevo nodo. Dado que sabemos que el modelo se tiende a sobreentrenar, tiene sentido regularizarlo con el parámetro Gamma y su valor nos indica que existe un beneficio en calibrarlo.\n",
    "3. Colsample_bytree es la fracción de variables que se usan para entrenar cada árbol del modelo, seleccionadas aleatoriamente del espacio de variables predictoras del modelo. Como nuestra data tiene 9 variables, cada árbol nuevo será entrenado usando únicamente el 23% de esas variables. Esto se hace para combatir el sobreentrenamiento, de modo que este valor, relativamente bajo, nos lleva a concluir que el modelo se beneficia de usar pocas variables por árbol.\n"
   ]
  },
  {
   "cell_type": "markdown",
   "metadata": {},
   "source": [
    "### Punto 8 - Comparación y análisis de resultados\n",
    "En la celda 8 comparen los resultados obtenidos de los diferentes modelos (random forest y XGBoost) y comenten las ventajas del mejor modelo y las desventajas del modelo con el menor desempeño."
   ]
  },
  {
   "attachments": {},
   "cell_type": "markdown",
   "metadata": {},
   "source": [
    "### Conclusion\n",
    "En resumen, después de comparar varios modelos de machine learning para explicar el precio de los autos Toyota Camry, podemos concluir que el modelo XGBoost es el más adecuado debido a su alto rendimiento y precisión en las predicciones (mayor precisión y menor score en MSE). Además, este modelo puede identificar patrones importantes en los datos, lo que sugiere que ciertas variables tienen una mayor relevancia para explicar la variación en los precios de los vehículos Toyota. En particular, se ha descubierto que la línea Camry4dr es una variable importante en comparación con el millage, lo que sugiere que el modelo XGBoost no utiliza todas las variables en la misma forma para explicar el precio (principalmente el modelo y el millage como se esperaba desde un principio).\n",
    "\n",
    "Cabe resaltar tambien la ganancia que se obtiene al calibrar los hiperparametros de los modelos ya que estos tienen una mejora respecto a su version estandar, por tal motivo siempre hay que realizar una calibracion los parametros de cada modelo."
   ]
  },
  {
   "cell_type": "code",
   "execution_count": 29,
   "metadata": {},
   "outputs": [
    {
     "data": {
      "text/html": [
       "<div>\n",
       "<style scoped>\n",
       "    .dataframe tbody tr th:only-of-type {\n",
       "        vertical-align: middle;\n",
       "    }\n",
       "\n",
       "    .dataframe tbody tr th {\n",
       "        vertical-align: top;\n",
       "    }\n",
       "\n",
       "    .dataframe thead th {\n",
       "        text-align: right;\n",
       "    }\n",
       "</style>\n",
       "<table border=\"1\" class=\"dataframe\">\n",
       "  <thead>\n",
       "    <tr style=\"text-align: right;\">\n",
       "      <th></th>\n",
       "      <th>MAE</th>\n",
       "      <th>RMSE</th>\n",
       "    </tr>\n",
       "  </thead>\n",
       "  <tbody>\n",
       "    <tr>\n",
       "      <th>arbol_manual</th>\n",
       "      <td>1738.999326</td>\n",
       "      <td>2318.295640</td>\n",
       "    </tr>\n",
       "    <tr>\n",
       "      <th>bagging_manual</th>\n",
       "      <td>1340.016074</td>\n",
       "      <td>1796.435587</td>\n",
       "    </tr>\n",
       "    <tr>\n",
       "      <th>bagging_libreria</th>\n",
       "      <td>1523.793652</td>\n",
       "      <td>2013.353269</td>\n",
       "    </tr>\n",
       "    <tr>\n",
       "      <th>random_forest_libreria</th>\n",
       "      <td>1309.651745</td>\n",
       "      <td>1762.554954</td>\n",
       "    </tr>\n",
       "    <tr>\n",
       "      <th>random_forest_best</th>\n",
       "      <td>1138.422025</td>\n",
       "      <td>1552.172758</td>\n",
       "    </tr>\n",
       "    <tr>\n",
       "      <th>XGBoost</th>\n",
       "      <td>1186.634392</td>\n",
       "      <td>1621.419700</td>\n",
       "    </tr>\n",
       "    <tr>\n",
       "      <th>best_XGBoost</th>\n",
       "      <td>1131.928491</td>\n",
       "      <td>1541.355086</td>\n",
       "    </tr>\n",
       "  </tbody>\n",
       "</table>\n",
       "</div>"
      ],
      "text/plain": [
       "                                MAE         RMSE\n",
       "arbol_manual            1738.999326  2318.295640\n",
       "bagging_manual          1340.016074  1796.435587\n",
       "bagging_libreria        1523.793652  2013.353269\n",
       "random_forest_libreria  1309.651745  1762.554954\n",
       "random_forest_best      1138.422025  1552.172758\n",
       "XGBoost                 1186.634392  1621.419700\n",
       "best_XGBoost            1131.928491  1541.355086"
      ]
     },
     "metadata": {},
     "output_type": "display_data"
    },
    {
     "data": {
      "text/plain": [
       "<AxesSubplot:>"
      ]
     },
     "execution_count": 29,
     "metadata": {},
     "output_type": "execute_result"
    },
    {
     "data": {
      "image/png": "[encoded data removed]",
      "text/plain": [
       "<Figure size 432x288 with 1 Axes>"
      ]
     },
     "metadata": {
      "needs_background": "light"
     },
     "output_type": "display_data"
    }
   ],
   "source": [
    "# Celda 8\n",
    "df_resultados = pd.DataFrame(resultados_modelos).T\n",
    "display(df_resultados)\n",
    "df_resultados.plot(kind=\"bar\")."
   ]
  },
  {
   "cell_type": "code",
   "execution_count": 30,
   "metadata": {},
   "outputs": [
    {
     "name": "stdout",
     "output_type": "stream",
     "text": [
      "['Year' 'Mileage' 'M_Camry' 'M_Camry4dr' 'M_CamryBase' 'M_CamryL'\n",
      " 'M_CamryLE' 'M_CamrySE' 'M_CamryXLE']\n"
     ]
    },
    {
     "data": {
      "text/plain": [
       "<AxesSubplot:>"
      ]
     },
     "execution_count": 30,
     "metadata": {},
     "output_type": "execute_result"
    },
    {
     "data": {
      "image/png": "[encoded data removed]",
      "text/plain": [
       "<Figure size 432x288 with 1 Axes>"
      ]
     },
     "metadata": {
      "needs_background": "light"
     },
     "output_type": "display_data"
    }
   ],
   "source": [
    "print(clf.feature_names_in_)\n",
    "clf.feature_importances_\n",
    "\n",
    "\n",
    "dict_feature_importances = {\"XGBoost\":clf.feature_importances_,\n",
    "\"RandF\":RF_grid.best_estimator_.feature_importances_}\n",
    "\n",
    "pd.DataFrame(dict_feature_importances, index=X_train.columns.values).plot(kind=\"bar\")"
   ]
  }
 ],
 "metadata": {
  "kernelspec": {
   "display_name": "Python 3 (ipykernel)",
   "language": "python",
   "name": "python3"
  },
  "language_info": {
   "codemirror_mode": {
    "name": "ipython",
    "version": 3
   },
   "file_extension": ".py",
   "mimetype": "text/x-python",
   "name": "python",
   "nbconvert_exporter": "python",
   "pygments_lexer": "ipython3",
   "version": "3.9.12"
  }
 },
 "nbformat": 4,
 "nbformat_minor": 4
}
